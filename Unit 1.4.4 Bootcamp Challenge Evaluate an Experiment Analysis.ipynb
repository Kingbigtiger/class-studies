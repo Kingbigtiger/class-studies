{
 "cells": [
  {
   "cell_type": "markdown",
   "metadata": {},
   "source": [
    "## Now it's time to flex your critical evaluation skills. Read the following descriptions of an experiment and its analysis, identify the flaws in each, and describe what you would do to correct them.\n",
    "\n",
    "__1)__  The Sith Lords are concerned that their recruiting slogan, \"Give In to Your Anger,\" isn't very effective. Darth Vader develops an alternative slogan, \"Together We Can Rule the Galaxy.\" They compare the slogans on two groups of 50 captured droids each. In one group, Emperor Palpatine delivers the \"Anger\" slogan. In the other, Darth Vader presents the \"Together\" slogan. 20 droids convert to the Dark Side after hearing Palpatine's slogan, while only 5 droids convert after hearing Vader's. The Sith's data scientist concludes that \"Anger\" is a more effective slogan and should continue to be used.\n",
    "\n",
    "__ANSWER__:There are two many variables in the slogan to compare. The sampling is only 100 participants total which is biased. I would propose the slogans be \"Give in to your anger\" and \"let your anger rule\". That way there is no bias and that eliminates the anger component. Currently there is an additional variable of rule the galaxy is an unknown component in the slogan.   \n",
    "\n",
    "__2)__ In the past, the Jedi have had difficulty with public relations. They send two envoys, Jar Jar Binks and Mace Windu, to four friendly and four unfriendly planets respectively, with the goal of promoting favorable feelings toward the Jedi. Upon their return, the envoys learn that Jar Jar was much more effective than Windu: Over 75% of the people surveyed said their attitudes had become more favorable after speaking with Jar Jar, while only 65% said their attitudes had become more favorable after speaking with Windu. This makes Windu angry, because he is sure that he had a better success rate than Jar Jar on every planet. The Jedi choose Jar Jar to be their representative in the future.\n",
    "\n",
    "__ANSWER__:The issue is how many did each team survey. It is unidentified in the statement. I would correct this in two ways 1) being with a set number of participants in the survey, also I would pull 10 planets instead of 8.  \n",
    "\n",
    "__3)__ A company with work sites in five different countries has sent you data on employee satisfaction rates for workers in Human Resources and workers in Information Technology. Most HR workers are concentrated in three of the countries, while IT workers are equally distributed across worksites. The company requests a report on satisfaction for each job type. You calculate average job satisfaction for HR and for IT and present the report.\n",
    "\n",
    "__ANSWER__:The problem is there is not equal amounts of sites for each department. So to fix this you would have negate the other sites and only compare the same number of people and sites against each other. \n",
    "\n",
    "__4)__ When people install the Happy Days Fitness Tracker app, they are asked to \"opt in\" to a data collection scheme where their level of physical activity data is automatically sent to the company for product research purposes. During your interview with the company, they tell you that the app is very effective because after installing the app, the data show that people's activity levels rise steadily.\n",
    "\n",
    "__ANSWER__:The issue is time. If they are asked to opt in in the beginning. They are trying out the app and using the new tracker. In order to resolve this issue you need several months of data to compare with duration from opt-in to current.  \n",
    "\n",
    "__5)__ To prevent cheating, a teacher writes three versions of a test. She stacks the three versions together, first all copies of Version A, then all copies of Version B, then all copies of Version C. As students arrive for the exam, each student takes a test. When grading the test, the teacher finds that students who took Version B scored higher than students who took either Version A or Version C. She concludes from this that Version B is easier, and discards it.\n",
    "\n",
    "__ANSWER__:The problem is that demographics of the students who draw the version B test. To fix the issue I would say it is better to adjust the order of the questions on Version A instead of writing two additional tests.\n",
    "\n",
    "Discuss your answer to each of these questions with your mentor. For a deep and irreverent dive into the critical evaluation of experiments (among other sources of information), check out Calling Bullshit in the Age of Big Data //https://callingbullshit.org/."
   ]
  },
  {
   "cell_type": "code",
   "execution_count": null,
   "metadata": {},
   "outputs": [],
   "source": []
  }
 ],
 "metadata": {
  "kernelspec": {
   "display_name": "Python 3",
   "language": "python",
   "name": "python3"
  },
  "language_info": {
   "codemirror_mode": {
    "name": "ipython",
    "version": 3
   },
   "file_extension": ".py",
   "mimetype": "text/x-python",
   "name": "python",
   "nbconvert_exporter": "python",
   "pygments_lexer": "ipython3",
   "version": "3.7.1"
  }
 },
 "nbformat": 4,
 "nbformat_minor": 2
}
