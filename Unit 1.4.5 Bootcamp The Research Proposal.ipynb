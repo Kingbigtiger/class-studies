{
 "cells": [
  {
   "cell_type": "markdown",
   "metadata": {},
   "source": [
    "\n",
    "# The Research Proposal\n",
    "\n",
    "Experiments work best when they build on existing knowledge to address a clearly defined problem. A research proposal is an organized \"battle plan\" in three parts:\n",
    "\n",
    "## The problem\n",
    "This is where you define the question or problem, justify why the problem should be studied, and review what we already know about the problem. For example:\n",
    "\n",
    "How to decrease employee churn? Churn creates inefficiency as new people have to be trained in and knowledge from experienced workers is lost. In exit interviews, employees name \"out-of-date technology\" and \"poor communication\" as major motivations to leave.\n",
    "\n",
    "## The potential solution\n",
    "Here you propose a hypothesis (potential explanation) to be tested. For example:\n",
    "\n",
    "Adding Slack to employee computers will decrease churn by increasing communication.\n",
    "\n",
    "## The method of testing the solution\n",
    "Describe the design of the experiment, the _analysis plan_, and _set benchmarks_:\n",
    "\n",
    "Install Slack on half of the employees' computers and monitor churn for the next two months. The variable of interest is churn in Slack and non-Slack groups. This is an A/B manipulation where Slack is installed or not installed.\n",
    "\n",
    "We will compute the churn rate for two months before the study and compare it to the churn rate in Slack and non-Slack groups for two months during the study.\n",
    "\n",
    "If churn in the next two months decreases by 10% among Slack users (using churn estimates from the past year), conclude that Slack is effective and install on all computers. If churn in the next two months decreases among Slack users, but by less than one standard deviation, observe for two more months before deciding. If churn does not decrease in two months, uninstall Slack.\n",
    "\n",
    "Even if no one reads the research proposal but you, it is important to clearly lay out exactly what you plan to do and why. A research proposal helps to avoid many common experimentation pitfalls, such as:\n",
    "\n",
    "Mis-match between question and study design.\n",
    "E.g., a study that claims to address churn but actually focuses on employee communication and doesn't measure churn.\n",
    "A design that does not generate usable data.\n",
    "E.g. We want to compare employee satisfaction in two groups, but the groups use different satisfaction measures and there's no way to compare them.\n",
    "False positives\n",
    "E.g. Changing the endpoints mid-way through a study by moving benchmarks or stopping data collection early when things start to look promising increases the risk of getting results that look good but reflect random chance rather than real trends.\n",
    "The research proposal also presents and maintains a standard. It should outline the way things should be and hold you to it. In the real world there will be pressure to run things faster, reduce costs, or cut corners here or there. The proposal provides the standard for how the experiment should be run. It also provides an easy response to questions like: \"Why is this taking so long?\"\n",
    "A good research proposal starts with a big question (\"How to reduce employee churn?\") but rapidly narrows in scope (\"Adding Slack to employee computers will decrease churn by increasing communication\"). It is a practical reference document that helps to maintain a straight line between goals and actions.\n",
    "\n",
    "For a deep dive into designing a promising proposal, see this chapter excerpt from _Commercial Data Mining: Processing, Analysis and Modeling for Predictive Analytics Projects_, by David Nettleton and a follow-up commentary from a data scientist at IBM. Note that they focus on evaluating data mining proposals, rather than experimentation proposals, but the underlying logic is the same.\n",
    "\n",
    "## DRILL: Make a quick research proposal\n",
    "\n",
    "Look back to the potential experiments in the previous assignment. For one of those experiments, write up the essential points of a research proposal for an improved version of that experiment.\n",
    "\n",
    "__Answer__:\n",
    "\n",
    "## The problem\n",
    "Evaluation of the data from the Happy Days Fitness App based on opt-in when installing. Claim it is very effective based on increases in fitness activity\n",
    "\n",
    "## The potential solution\n",
    "\n",
    "Evaluate fitness app install to opt-in using activity data\n",
    "\n",
    "## Method of testing the solution\n",
    "\n",
    "record fitness app installed to fitness app installed opt-in using activity data over a two month period.\n",
    "\n",
    "After two months evaluate numbers if there is a 10% increase or more in users activity they could be considered effective. \n",
    "If there is no change evaluate for another two months to give final evaluation. Compare all analysis against the same time of year the year before. \n",
    "\n",
    "\n"
   ]
  }
 ],
 "metadata": {
  "kernelspec": {
   "display_name": "Python 3",
   "language": "python",
   "name": "python3"
  },
  "language_info": {
   "codemirror_mode": {
    "name": "ipython",
    "version": 3
   },
   "file_extension": ".py",
   "mimetype": "text/x-python",
   "name": "python",
   "nbconvert_exporter": "python",
   "pygments_lexer": "ipython3",
   "version": "3.7.1"
  }
 },
 "nbformat": 4,
 "nbformat_minor": 2
}
