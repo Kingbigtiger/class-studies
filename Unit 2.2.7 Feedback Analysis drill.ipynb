{
 "cells": [
  {
   "cell_type": "code",
   "execution_count": 1,
   "metadata": {},
   "outputs": [],
   "source": [
    "%matplotlib inline\n",
    "import numpy as np\n",
    "import pandas as pd\n",
    "import scipy\n",
    "import sklearn\n",
    "import matplotlib.pyplot as plt\n",
    "import seaborn as sns"
   ]
  },
  {
   "cell_type": "code",
   "execution_count": 11,
   "metadata": {},
   "outputs": [
    {
     "name": "stdout",
     "output_type": "stream",
     "text": [
      "                                                      0\n",
      "0                                       <!DOCTYPE html>\n",
      "1                                      <html lang=\"en\">\n",
      "2                                                <head>\n",
      "3                                <meta charset=\"utf-8\">\n",
      "4       <link rel=\"dns-prefetch\" href=\"https://githu...\n",
      "5       <link rel=\"dns-prefetch\" href=\"https://avata...\n",
      "6       <link rel=\"dns-prefetch\" href=\"https://avata...\n",
      "7       <link rel=\"dns-prefetch\" href=\"https://avata...\n",
      "8       <link rel=\"dns-prefetch\" href=\"https://avata...\n",
      "9       <link rel=\"dns-prefetch\" href=\"https://githu...\n",
      "10      <link rel=\"dns-prefetch\" href=\"https://user-...\n",
      "11      <link crossorigin=\"anonymous\" media=\"all\" in...\n",
      "12      <link crossorigin=\"anonymous\" media=\"all\" in...\n",
      "13        <link crossorigin=\"anonymous\" media=\"all\" ...\n",
      "14      <meta name=\"viewport\" content=\"width=device-...\n",
      "15      <title>Datasets/imdb_labelled.txt at master ...\n",
      "16        <meta name=\"description\" content=\"Infromat...\n",
      "17        <link rel=\"search\" type=\"application/opens...\n",
      "18      <link rel=\"fluid-icon\" href=\"https://github....\n",
      "19      <meta property=\"fb:app_id\" content=\"14014886...\n",
      "20        <meta property=\"og:image\" content=\"https:/...\n",
      "21      <link rel=\"assets\" href=\"https://github.gith...\n",
      "22            <meta name=\"pjax-timeout\" content=\"1000\">\n",
      "23      <meta name=\"request-id\" content=\"06C3:0847:2...\n",
      "24      <meta name=\"selected-link\" value=\"repo_sourc...\n",
      "25          <meta name=\"google-site-verification\" co...\n",
      "26        <meta name=\"google-site-verification\" cont...\n",
      "27        <meta name=\"google-site-verification\" cont...\n",
      "28      <meta name=\"octolytics-host\" content=\"collec...\n",
      "29    <meta name=\"analytics-location\" content=\"/&lt;...\n",
      "...                                                 ...\n",
      "4541                                             </div>\n",
      "4542      <script crossorigin=\"anonymous\" integrity=...\n",
      "4543      <script crossorigin=\"anonymous\" integrity=...\n",
      "4544      <script crossorigin=\"anonymous\" async=\"asy...\n",
      "4545    <div class=\"js-stale-session-flash stale-ses...\n",
      "4546      <svg class=\"octicon octicon-alert\" viewBox...\n",
      "4547      <span class=\"signed-in-tab-flash\">You sign...\n",
      "4548      <span class=\"signed-out-tab-flash\">You sig...\n",
      "4549                                             </div>\n",
      "4550                <template id=\"site-details-dialog\">\n",
      "4551    <details class=\"details-reset details-overla...\n",
      "4552      <summary aria-haspopup=\"dialog\" aria-label...\n",
      "4553      <details-dialog class=\"Box Box--overlay d-...\n",
      "4554        <button class=\"Box-btn-octicon m-0 btn-o...\n",
      "4555          <svg class=\"octicon octicon-x\" viewBox...\n",
      "4556                                          </button>\n",
      "4557        <div class=\"octocat-spinner my-6 js-deta...\n",
      "4558                                  </details-dialog>\n",
      "4559                                         </details>\n",
      "4560                                        </template>\n",
      "4561    <div class=\"Popover js-hovercard-content pos...\n",
      "4562    <div class=\"Popover-message Popover-message-...\n",
      "4563                                             </div>\n",
      "4564                                             </div>\n",
      "4565  <div id=\"hovercard-aria-description\" class=\"sr...\n",
      "4566     Press h to open a hovercard with more details.\n",
      "4567                                             </div>\n",
      "4568    <div aria-live=\"polite\" class=\"js-global-scr...\n",
      "4569                                            </body>\n",
      "4570                                            </html>\n",
      "\n",
      "[4571 rows x 1 columns]\n"
     ]
    }
   ],
   "source": [
    "data_path = (\"https://github.com/Kingbigtiger/Datasets/blob/master/imdb_labelled.txt\")\n",
    "sms_raw = pd.read_csv(data_path, delimiter= '\\1', header=None)\n"
   ]
  },
  {
   "cell_type": "code",
   "execution_count": 12,
   "metadata": {},
   "outputs": [
    {
     "ename": "AttributeError",
     "evalue": "'DataFrame' object has no attribute 'message'",
     "output_type": "error",
     "traceback": [
      "\u001b[1;31m---------------------------------------------------------------------------\u001b[0m",
      "\u001b[1;31mAttributeError\u001b[0m                            Traceback (most recent call last)",
      "\u001b[1;32m<ipython-input-12-042a89e2ff02>\u001b[0m in \u001b[0;36m<module>\u001b[1;34m\u001b[0m\n\u001b[0;32m      4\u001b[0m     \u001b[1;31m# Note that we add spaces around the key so that we're getting the word,\u001b[0m\u001b[1;33m\u001b[0m\u001b[1;33m\u001b[0m\u001b[1;33m\u001b[0m\u001b[0m\n\u001b[0;32m      5\u001b[0m     \u001b[1;31m# not just pattern matching.\u001b[0m\u001b[1;33m\u001b[0m\u001b[1;33m\u001b[0m\u001b[1;33m\u001b[0m\u001b[0m\n\u001b[1;32m----> 6\u001b[1;33m     sms_raw[str(key)] = sms_raw.message.str.contains(\n\u001b[0m\u001b[0;32m      7\u001b[0m         \u001b[1;34m' '\u001b[0m \u001b[1;33m+\u001b[0m \u001b[0mstr\u001b[0m\u001b[1;33m(\u001b[0m\u001b[0mkey\u001b[0m\u001b[1;33m)\u001b[0m \u001b[1;33m+\u001b[0m \u001b[1;34m' '\u001b[0m\u001b[1;33m,\u001b[0m\u001b[1;33m\u001b[0m\u001b[1;33m\u001b[0m\u001b[0m\n\u001b[0;32m      8\u001b[0m         \u001b[0mcase\u001b[0m\u001b[1;33m=\u001b[0m\u001b[1;32mFalse\u001b[0m\u001b[1;33m\u001b[0m\u001b[1;33m\u001b[0m\u001b[0m\n",
      "\u001b[1;32mC:\\ProgramData\\Anaconda3\\lib\\site-packages\\pandas\\core\\generic.py\u001b[0m in \u001b[0;36m__getattr__\u001b[1;34m(self, name)\u001b[0m\n\u001b[0;32m   4374\u001b[0m             \u001b[1;32mif\u001b[0m \u001b[0mself\u001b[0m\u001b[1;33m.\u001b[0m\u001b[0m_info_axis\u001b[0m\u001b[1;33m.\u001b[0m\u001b[0m_can_hold_identifiers_and_holds_name\u001b[0m\u001b[1;33m(\u001b[0m\u001b[0mname\u001b[0m\u001b[1;33m)\u001b[0m\u001b[1;33m:\u001b[0m\u001b[1;33m\u001b[0m\u001b[1;33m\u001b[0m\u001b[0m\n\u001b[0;32m   4375\u001b[0m                 \u001b[1;32mreturn\u001b[0m \u001b[0mself\u001b[0m\u001b[1;33m[\u001b[0m\u001b[0mname\u001b[0m\u001b[1;33m]\u001b[0m\u001b[1;33m\u001b[0m\u001b[1;33m\u001b[0m\u001b[0m\n\u001b[1;32m-> 4376\u001b[1;33m             \u001b[1;32mreturn\u001b[0m \u001b[0mobject\u001b[0m\u001b[1;33m.\u001b[0m\u001b[0m__getattribute__\u001b[0m\u001b[1;33m(\u001b[0m\u001b[0mself\u001b[0m\u001b[1;33m,\u001b[0m \u001b[0mname\u001b[0m\u001b[1;33m)\u001b[0m\u001b[1;33m\u001b[0m\u001b[1;33m\u001b[0m\u001b[0m\n\u001b[0m\u001b[0;32m   4377\u001b[0m \u001b[1;33m\u001b[0m\u001b[0m\n\u001b[0;32m   4378\u001b[0m     \u001b[1;32mdef\u001b[0m \u001b[0m__setattr__\u001b[0m\u001b[1;33m(\u001b[0m\u001b[0mself\u001b[0m\u001b[1;33m,\u001b[0m \u001b[0mname\u001b[0m\u001b[1;33m,\u001b[0m \u001b[0mvalue\u001b[0m\u001b[1;33m)\u001b[0m\u001b[1;33m:\u001b[0m\u001b[1;33m\u001b[0m\u001b[1;33m\u001b[0m\u001b[0m\n",
      "\u001b[1;31mAttributeError\u001b[0m: 'DataFrame' object has no attribute 'message'"
     ]
    }
   ],
   "source": [
    "keywords = ['1', '0']\n",
    "\n",
    "for key in keywords:\n",
    "    # Note that we add spaces around the key so that we're getting the word,\n",
    "    # not just pattern matching.\n",
    "    sms_raw[str(key)] = sms_raw.message.str.contains(\n",
    "        ' ' + str(key) + ' ',\n",
    "        case=False\n",
    "    )"
   ]
  },
  {
   "cell_type": "code",
   "execution_count": null,
   "metadata": {},
   "outputs": [],
   "source": []
  }
 ],
 "metadata": {
  "kernelspec": {
   "display_name": "Python 3",
   "language": "python",
   "name": "python3"
  },
  "language_info": {
   "codemirror_mode": {
    "name": "ipython",
    "version": 3
   },
   "file_extension": ".py",
   "mimetype": "text/x-python",
   "name": "python",
   "nbconvert_exporter": "python",
   "pygments_lexer": "ipython3",
   "version": "3.7.1"
  }
 },
 "nbformat": 4,
 "nbformat_minor": 2
}
