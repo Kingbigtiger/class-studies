{
 "cells": [
  {
   "cell_type": "code",
   "execution_count": 1,
   "metadata": {},
   "outputs": [],
   "source": [
    "%matplotlib inline\n",
    "import numpy as np\n",
    "import pandas as pd\n",
    "import scipy\n",
    "import sklearn\n",
    "import matplotlib.pyplot as plt\n",
    "import seaborn as sns"
   ]
  },
  {
   "cell_type": "code",
   "execution_count": 2,
   "metadata": {},
   "outputs": [
    {
     "name": "stdout",
     "output_type": "stream",
     "text": [
      "                                                  text  classification\n",
      "0    A very, very, very slow-moving, aimless movie ...               0\n",
      "1    Not sure who was more lost - the flat characte...               0\n",
      "2    Attempting artiness with black & white and cle...               0\n",
      "3         Very little music or anything to speak of.                 0\n",
      "4    The best scene in the movie was when Gerardo i...               1\n",
      "5    The rest of the movie lacks art, charm, meanin...               0\n",
      "6                                  Wasted two hours.                 0\n",
      "7    Saw the movie today and thought it was a good ...               1\n",
      "8                                 A bit predictable.                 0\n",
      "9    Loved the casting of Jimmy Buffet as the scien...               1\n",
      "10                And those baby owls were adorable.                 1\n",
      "11   The movie showed a lot of Florida at it's best...               1\n",
      "12   The Songs Were The Best And The Muppets Were S...               1\n",
      "13                                   It Was So Cool.                 1\n",
      "14   This is a very \"right on case\" movie that deli...               1\n",
      "15   It had some average acting from the main perso...               0\n",
      "16   This review is long overdue, since I consider ...               1\n",
      "17   I'll put this gem up against any movie in term...               1\n",
      "18   It's practically perfect in all of them  a tr...               1\n",
      "19    The structure of this film is easily the most...               0\n",
      "20   This if the first movie I've given a 10 to in ...               1\n",
      "21   If there was ever a movie that needed word-of-...               1\n",
      "22   Overall, the film is interesting and thought-p...               1\n",
      "23   Plus, it was well-paced and suited its relativ...               1\n",
      "24                             Give this one a look.                 1\n",
      "25                                    I gave it a 10                 1\n",
      "26   The Wind and the Lion is well written and supe...               1\n",
      "27                             It is a true classic.                 1\n",
      "28   It actually turned out to be pretty decent as ...               1\n",
      "29                    Definitely worth checking out.                 1\n",
      "..                                                 ...             ...\n",
      "718  Enough can not be said of the remarkable anima...               1\n",
      "719  The art style has the appearance of crayon/pen...               1\n",
      "720  If you act in such a film, you should be glad ...               0\n",
      "721  This one wants to surf on the small wave of sp...               0\n",
      "722  If you haven't choked in your own vomit by the...               0\n",
      "723  Still, it makes up for all of this with a supe...               1\n",
      "724  Just consider the excellent story, solid actin...               1\n",
      "725  Instead, we got a bore fest about a whiny, spo...               0\n",
      "726  Then I watched it again two Sundays ago (March...               1\n",
      "727       It is a very well acted and done TV Movie.                 1\n",
      "728  Judith Light is one of my favorite actresses a...               1\n",
      "729                I keep watching it over and over.                 1\n",
      "730                 It's a sad movie, but very good.                 1\n",
      "731  If you have not seen this movie, I definitely ...               1\n",
      "732           She is as lovely as usual, this cutie!                 1\n",
      "733  Still it's quite interesting and entertaining ...               1\n",
      "734                    ;) Recommend with confidence!                 1\n",
      "735  This movie is well-balanced with comedy and dr...               1\n",
      "736  It was a riot to see Hugo Weaving play a sex-o...               1\n",
      "737  :) Anyway, the plot flowed smoothly and the ma...               1\n",
      "738  The opening sequence of this gem is a classic,...               1\n",
      "739             Fans of the genre will be in heaven.                 1\n",
      "740                Lange had become a great actress.                 1\n",
      "741                It looked like a wonderful story.                 1\n",
      "742            I never walked out of a movie faster.                 0\n",
      "743  I just got bored watching Jessice Lange take h...               0\n",
      "744  Unfortunately, any virtue in this film's produ...               0\n",
      "745                   In a word, it is embarrassing.                 0\n",
      "746                               Exceptionally bad!                 0\n",
      "747  All in all its an insult to one's intelligence...               0\n",
      "\n",
      "[748 rows x 2 columns]\n"
     ]
    }
   ],
   "source": [
    "data_path = (\"https://raw.githubusercontent.com/Kingbigtiger/Datasets/master/imdb_labelled.txt\")\n",
    "sms_raw = pd.read_csv(data_path, delimiter= '\\t', header=None)\n",
    "sms_raw.columns = ['text', 'classification']\n",
    "sms_raw.classification[0]\n",
    "\n",
    "print(sms_raw)"
   ]
  },
  {
   "cell_type": "code",
   "execution_count": 3,
   "metadata": {},
   "outputs": [
    {
     "name": "stdout",
     "output_type": "stream",
     "text": [
      "                                                  text  classification\n",
      "4    The best scene in the movie was when Gerardo i...               1\n",
      "7    Saw the movie today and thought it was a good ...               1\n",
      "9    Loved the casting of Jimmy Buffet as the scien...               1\n",
      "10                And those baby owls were adorable.                 1\n",
      "11   The movie showed a lot of Florida at it's best...               1\n",
      "12   The Songs Were The Best And The Muppets Were S...               1\n",
      "13                                   It Was So Cool.                 1\n",
      "14   This is a very \"right on case\" movie that deli...               1\n",
      "16   This review is long overdue, since I consider ...               1\n",
      "17   I'll put this gem up against any movie in term...               1\n",
      "18   It's practically perfect in all of them  a tr...               1\n",
      "20   This if the first movie I've given a 10 to in ...               1\n",
      "21   If there was ever a movie that needed word-of-...               1\n",
      "22   Overall, the film is interesting and thought-p...               1\n",
      "23   Plus, it was well-paced and suited its relativ...               1\n",
      "24                             Give this one a look.                 1\n",
      "25                                    I gave it a 10                 1\n",
      "26   The Wind and the Lion is well written and supe...               1\n",
      "27                             It is a true classic.                 1\n",
      "28   It actually turned out to be pretty decent as ...               1\n",
      "29                    Definitely worth checking out.                 1\n",
      "34   MANNA FROM HEAVEN is a terrific film that is b...               1\n",
      "35   The scenes are often funny and occasionally to...               1\n",
      "36   The cast of veteran actors are more than just ...               1\n",
      "37   Ursula Burton's portrayal of the nun is both t...               1\n",
      "38   If you are looking for a movie with a terrific...               1\n",
      "39           I don't think you will be disappointed.                 1\n",
      "45   The only thing really worth watching was the s...               1\n",
      "48   But in terms of the writing it's very fresh an...               1\n",
      "49   The acting helps the writing along very well (...               1\n",
      "..                                                 ...             ...\n",
      "708  I was particularly pleased with the acting abi...               1\n",
      "709  Both actors truly understand and become their ...               1\n",
      "710  Their on-screen chemistry, critical to the ent...               1\n",
      "711    The film's dialogue is natural, real to life.                 1\n",
      "712  The writer, Gorman Bechard, undoubtedly did hi...               1\n",
      "713  The incredible soundtrack truly captures the e...               1\n",
      "714  Each track commands sentiment, actually contri...               1\n",
      "715  Definitely worth seeing",
      " it's the sort of thou...               1\n",
      "716  Hayao Miyazaki's latest and eighth film for St...               1\n",
      "717  At a time when it seems that film animation ha...               1\n",
      "718  Enough can not be said of the remarkable anima...               1\n",
      "719  The art style has the appearance of crayon/pen...               1\n",
      "723  Still, it makes up for all of this with a supe...               1\n",
      "724  Just consider the excellent story, solid actin...               1\n",
      "726  Then I watched it again two Sundays ago (March...               1\n",
      "727       It is a very well acted and done TV Movie.                 1\n",
      "728  Judith Light is one of my favorite actresses a...               1\n",
      "729                I keep watching it over and over.                 1\n",
      "730                 It's a sad movie, but very good.                 1\n",
      "731  If you have not seen this movie, I definitely ...               1\n",
      "732           She is as lovely as usual, this cutie!                 1\n",
      "733  Still it's quite interesting and entertaining ...               1\n",
      "734                    ;) Recommend with confidence!                 1\n",
      "735  This movie is well-balanced with comedy and dr...               1\n",
      "736  It was a riot to see Hugo Weaving play a sex-o...               1\n",
      "737  :) Anyway, the plot flowed smoothly and the ma...               1\n",
      "738  The opening sequence of this gem is a classic,...               1\n",
      "739             Fans of the genre will be in heaven.                 1\n",
      "740                Lange had become a great actress.                 1\n",
      "741                It looked like a wonderful story.                 1\n",
      "\n",
      "[386 rows x 2 columns]\n",
      "                                                  text  classification\n",
      "0    A very, very, very slow-moving, aimless movie ...               0\n",
      "1    Not sure who was more lost - the flat characte...               0\n",
      "2    Attempting artiness with black & white and cle...               0\n",
      "3         Very little music or anything to speak of.                 0\n",
      "5    The rest of the movie lacks art, charm, meanin...               0\n",
      "6                                  Wasted two hours.                 0\n",
      "8                                 A bit predictable.                 0\n",
      "15   It had some average acting from the main perso...               0\n",
      "19    The structure of this film is easily the most...               0\n",
      "30                       The problem was the script.                 0\n",
      "31                                It was horrendous.                 0\n",
      "32     There was NOTHING believable about it at all.                 0\n",
      "33   The only suspense I was feeling was the frustr...               0\n",
      "40   Frankly, after Cotton club and Unfaithful, it ...               0\n",
      "41   The acting was bad, the dialogs were extremely...               0\n",
      "42   It was too predictable, even for a chick flick.                 0\n",
      "43                          Too politically correct.                 0\n",
      "44                               Very disappointing.                 0\n",
      "46   I love Lane, but I've never seen her in a movi...               0\n",
      "47     An hour and a half I wish I could bring back.                 0\n",
      "50   The directing and the cinematography aren't qu...               0\n",
      "51   The movie was so boring, that I sometimes foun...               0\n",
      "52   ), and sometimes it was so embarrassing that I...               0\n",
      "53              The directing seems too pretentious.                 0\n",
      "54   The scenes with the \"oh-so-mature\" neighbour-g...               0\n",
      "55   And generally the lines and plot is weaker tha...               0\n",
      "56   Then scene where they debated whether or not t...               0\n",
      "66   My only problem is I thought the actor playing...               0\n",
      "68   However, this didn't make up for the fact that...               0\n",
      "69   There was NO chemistry between Ben Affleck and...               0\n",
      "..                                                 ...             ...\n",
      "652  I'm so sorry but I really can't recommend it t...               0\n",
      "653  One of the most boring,pointless movies I have...               0\n",
      "654  The secondary plot line is incomprehensible an...               0\n",
      "655                                        Hated it.                 0\n",
      "656  This is one of the worst Sandra Bullock movie ...               0\n",
      "657  I don't understand how this garbage got on the...               0\n",
      "658  I highly doubt that anyone could ever like thi...               0\n",
      "659                        This is not movie-making.                 0\n",
      "660  The acting is like watching wooden puppets mov...               0\n",
      "661  So I am here to warn you--DO NOT RENT THIS MOV...               0\n",
      "666  I agree with Jessica, this movie is pretty bad.                 0\n",
      "667  Characters are one-dimensional, even the good ...               0\n",
      "668           The story line is totally predictable.                 0\n",
      "670  I've seen soap operas more intelligent than th...               0\n",
      "671        Bad characters, bad story and bad acting.                 0\n",
      "672                                    Really awful.                 0\n",
      "673                               Not easy to watch.                 0\n",
      "701  Just whatever you do, avoid \"Groove\" as its th...               0\n",
      "702  It's too bad that everyone else involved didn'...               0\n",
      "703         The movie seemed a little slow at first.                 0\n",
      "720  If you act in such a film, you should be glad ...               0\n",
      "721  This one wants to surf on the small wave of sp...               0\n",
      "722  If you haven't choked in your own vomit by the...               0\n",
      "725  Instead, we got a bore fest about a whiny, spo...               0\n",
      "742            I never walked out of a movie faster.                 0\n",
      "743  I just got bored watching Jessice Lange take h...               0\n",
      "744  Unfortunately, any virtue in this film's produ...               0\n",
      "745                   In a word, it is embarrassing.                 0\n",
      "746                               Exceptionally bad!                 0\n",
      "747  All in all its an insult to one's intelligence...               0\n",
      "\n",
      "[362 rows x 2 columns]\n"
     ]
    }
   ],
   "source": [
    "positive_feedback = sms_raw[sms_raw.classification==1]\n",
    "negative_feedback = sms_raw[sms_raw.classification==0]\n",
    "\n",
    "print(positive_feedback)\n",
    "print(negative_feedback)"
   ]
  },
  {
   "cell_type": "code",
   "execution_count": 4,
   "metadata": {},
   "outputs": [
    {
     "data": {
      "text/html": [
       "<div>\n",
       "<style scoped>\n",
       "    .dataframe tbody tr th:only-of-type {\n",
       "        vertical-align: middle;\n",
       "    }\n",
       "\n",
       "    .dataframe tbody tr th {\n",
       "        vertical-align: top;\n",
       "    }\n",
       "\n",
       "    .dataframe thead th {\n",
       "        text-align: right;\n",
       "    }\n",
       "</style>\n",
       "<table border=\"1\" class=\"dataframe\">\n",
       "  <thead>\n",
       "    <tr style=\"text-align: right;\">\n",
       "      <th></th>\n",
       "      <th>classification</th>\n",
       "    </tr>\n",
       "  </thead>\n",
       "  <tbody>\n",
       "    <tr>\n",
       "      <th>count</th>\n",
       "      <td>386.0</td>\n",
       "    </tr>\n",
       "    <tr>\n",
       "      <th>mean</th>\n",
       "      <td>1.0</td>\n",
       "    </tr>\n",
       "    <tr>\n",
       "      <th>std</th>\n",
       "      <td>0.0</td>\n",
       "    </tr>\n",
       "    <tr>\n",
       "      <th>min</th>\n",
       "      <td>1.0</td>\n",
       "    </tr>\n",
       "    <tr>\n",
       "      <th>25%</th>\n",
       "      <td>1.0</td>\n",
       "    </tr>\n",
       "    <tr>\n",
       "      <th>50%</th>\n",
       "      <td>1.0</td>\n",
       "    </tr>\n",
       "    <tr>\n",
       "      <th>75%</th>\n",
       "      <td>1.0</td>\n",
       "    </tr>\n",
       "    <tr>\n",
       "      <th>max</th>\n",
       "      <td>1.0</td>\n",
       "    </tr>\n",
       "  </tbody>\n",
       "</table>\n",
       "</div>"
      ],
      "text/plain": [
       "       classification\n",
       "count           386.0\n",
       "mean              1.0\n",
       "std               0.0\n",
       "min               1.0\n",
       "25%               1.0\n",
       "50%               1.0\n",
       "75%               1.0\n",
       "max               1.0"
      ]
     },
     "execution_count": 4,
     "metadata": {},
     "output_type": "execute_result"
    }
   ],
   "source": [
    "positive_feedback.describe()\n"
   ]
  },
  {
   "cell_type": "code",
   "execution_count": 5,
   "metadata": {},
   "outputs": [],
   "source": [
    "keywords = ['good', 'loved', 'terrific', 'excellent', 'two', 'best', 'great', 'enjoy']\n",
    "\n",
    "for key in keywords:\n",
    "    # Note that we add spaces around the key so that we're getting the word,\n",
    "    # not just pattern matching.\n",
    "    sms_raw[str(key)] = sms_raw.text.str.contains(\n",
    "        ' ' + str(key) + ' ',\n",
    "        case=False\n",
    "    )"
   ]
  },
  {
   "cell_type": "code",
   "execution_count": 6,
   "metadata": {},
   "outputs": [
    {
     "data": {
      "text/html": [
       "<div>\n",
       "<style scoped>\n",
       "    .dataframe tbody tr th:only-of-type {\n",
       "        vertical-align: middle;\n",
       "    }\n",
       "\n",
       "    .dataframe tbody tr th {\n",
       "        vertical-align: top;\n",
       "    }\n",
       "\n",
       "    .dataframe thead th {\n",
       "        text-align: right;\n",
       "    }\n",
       "</style>\n",
       "<table border=\"1\" class=\"dataframe\">\n",
       "  <thead>\n",
       "    <tr style=\"text-align: right;\">\n",
       "      <th></th>\n",
       "      <th>text</th>\n",
       "      <th>classification</th>\n",
       "      <th>good</th>\n",
       "      <th>loved</th>\n",
       "      <th>terrific</th>\n",
       "      <th>excellent</th>\n",
       "      <th>two</th>\n",
       "      <th>best</th>\n",
       "      <th>great</th>\n",
       "      <th>enjoy</th>\n",
       "    </tr>\n",
       "  </thead>\n",
       "  <tbody>\n",
       "    <tr>\n",
       "      <th>0</th>\n",
       "      <td>A very, very, very slow-moving, aimless movie ...</td>\n",
       "      <td>0</td>\n",
       "      <td>False</td>\n",
       "      <td>False</td>\n",
       "      <td>False</td>\n",
       "      <td>False</td>\n",
       "      <td>False</td>\n",
       "      <td>False</td>\n",
       "      <td>False</td>\n",
       "      <td>False</td>\n",
       "    </tr>\n",
       "    <tr>\n",
       "      <th>1</th>\n",
       "      <td>Not sure who was more lost - the flat characte...</td>\n",
       "      <td>0</td>\n",
       "      <td>False</td>\n",
       "      <td>False</td>\n",
       "      <td>False</td>\n",
       "      <td>False</td>\n",
       "      <td>False</td>\n",
       "      <td>False</td>\n",
       "      <td>False</td>\n",
       "      <td>False</td>\n",
       "    </tr>\n",
       "    <tr>\n",
       "      <th>2</th>\n",
       "      <td>Attempting artiness with black &amp; white and cle...</td>\n",
       "      <td>0</td>\n",
       "      <td>False</td>\n",
       "      <td>False</td>\n",
       "      <td>False</td>\n",
       "      <td>False</td>\n",
       "      <td>False</td>\n",
       "      <td>False</td>\n",
       "      <td>False</td>\n",
       "      <td>False</td>\n",
       "    </tr>\n",
       "    <tr>\n",
       "      <th>3</th>\n",
       "      <td>Very little music or anything to speak of.</td>\n",
       "      <td>0</td>\n",
       "      <td>False</td>\n",
       "      <td>False</td>\n",
       "      <td>False</td>\n",
       "      <td>False</td>\n",
       "      <td>False</td>\n",
       "      <td>False</td>\n",
       "      <td>False</td>\n",
       "      <td>False</td>\n",
       "    </tr>\n",
       "    <tr>\n",
       "      <th>4</th>\n",
       "      <td>The best scene in the movie was when Gerardo i...</td>\n",
       "      <td>1</td>\n",
       "      <td>False</td>\n",
       "      <td>False</td>\n",
       "      <td>False</td>\n",
       "      <td>False</td>\n",
       "      <td>False</td>\n",
       "      <td>True</td>\n",
       "      <td>False</td>\n",
       "      <td>False</td>\n",
       "    </tr>\n",
       "  </tbody>\n",
       "</table>\n",
       "</div>"
      ],
      "text/plain": [
       "                                                text  classification   good  \\\n",
       "0  A very, very, very slow-moving, aimless movie ...               0  False   \n",
       "1  Not sure who was more lost - the flat characte...               0  False   \n",
       "2  Attempting artiness with black & white and cle...               0  False   \n",
       "3       Very little music or anything to speak of.                 0  False   \n",
       "4  The best scene in the movie was when Gerardo i...               1  False   \n",
       "\n",
       "   loved  terrific  excellent    two   best  great  enjoy  \n",
       "0  False     False      False  False  False  False  False  \n",
       "1  False     False      False  False  False  False  False  \n",
       "2  False     False      False  False  False  False  False  \n",
       "3  False     False      False  False  False  False  False  \n",
       "4  False     False      False  False   True  False  False  "
      ]
     },
     "execution_count": 6,
     "metadata": {},
     "output_type": "execute_result"
    }
   ],
   "source": [
    "sms_raw.head()"
   ]
  },
  {
   "cell_type": "code",
   "execution_count": 7,
   "metadata": {},
   "outputs": [
    {
     "data": {
      "text/plain": [
       "<matplotlib.axes._subplots.AxesSubplot at 0x25d48361828>"
      ]
     },
     "execution_count": 7,
     "metadata": {},
     "output_type": "execute_result"
    },
    {
     "data": {
      "image/png": "[encoded data removed]",
      "text/plain": [
       "<Figure size 432x288 with 2 Axes>"
      ]
     },
     "metadata": {
      "needs_background": "light"
     },
     "output_type": "display_data"
    }
   ],
   "source": [
    "sns.heatmap(sms_raw.corr())"
   ]
  },
  {
   "cell_type": "code",
   "execution_count": 8,
   "metadata": {},
   "outputs": [],
   "source": [
    "data = sms_raw[keywords]\n",
    "target = sms_raw['classification']"
   ]
  },
  {
   "cell_type": "code",
   "execution_count": 9,
   "metadata": {},
   "outputs": [
    {
     "name": "stdout",
     "output_type": "stream",
     "text": [
      "Number of mislabeled points out of a total 748 points : 331\n",
      "55.74866310160428 %\n"
     ]
    }
   ],
   "source": [
    "# Our data is binary / boolean, so we're importing the Bernoulli classifier.\n",
    "from sklearn.naive_bayes import BernoulliNB\n",
    "\n",
    "# Instantiate our model and store it in a new variable.\n",
    "bnb = BernoulliNB()\n",
    "\n",
    "# Fit our model to the data.\n",
    "bnb.fit(data, target)\n",
    "\n",
    "# Classify, storing the result in a new variable.\n",
    "y_pred = bnb.predict(data)\n",
    "\n",
    "# Display our results.\n",
    "print(\"Number of mislabeled points out of a total {} points : {}\".format(\n",
    "    data.shape[0],\n",
    "    (target != y_pred).sum()\n",
    "))\n",
    "\n",
    "x = ((data.shape[0])-(target != y_pred).sum())\n",
    "print(\"{} %\".format(100*(x / (data.shape[0]))))"
   ]
  },
  {
   "cell_type": "code",
   "execution_count": 10,
   "metadata": {},
   "outputs": [
    {
     "data": {
      "text/plain": [
       "array([[341,  21],\n",
       "       [310,  76]], dtype=int64)"
      ]
     },
     "execution_count": 10,
     "metadata": {},
     "output_type": "execute_result"
    }
   ],
   "source": [
    "from sklearn.metrics import confusion_matrix\n",
    "confusion_matrix(target, y_pred)"
   ]
  },
  {
   "cell_type": "code",
   "execution_count": 11,
   "metadata": {},
   "outputs": [
    {
     "data": {
      "text/plain": [
       "array([0.52980132, 0.58      , 0.54362416, 0.59060403, 0.51006711])"
      ]
     },
     "execution_count": 11,
     "metadata": {},
     "output_type": "execute_result"
    }
   ],
   "source": [
    "from sklearn.model_selection import cross_val_score\n",
    "cross_val_score(bnb, data, target, cv=5)\n",
    "#cv represents folds"
   ]
  },
  {
   "cell_type": "code",
   "execution_count": 12,
   "metadata": {},
   "outputs": [
    {
     "name": "stdout",
     "output_type": "stream",
     "text": [
      "Testing on Sample: 0.54\n",
      "Training on Model: 0.5618729096989966\n"
     ]
    }
   ],
   "source": [
    "#Test your model with different holdout groups.\n",
    "\n",
    "from sklearn.model_selection import train_test_split\n",
    "# Use train_test_split to create the necessary training and test groups\n",
    "X_train, X_test, y_train, y_test = train_test_split(data, target, test_size=0.2, random_state=20)\n",
    "print('Testing on Sample: ' + str(bnb.fit(X_train, y_train).score(X_test, y_test)))\n",
    "print('Training on Model: ' + str(bnb.fit(X_train, y_train).score(X_train, y_train)))\n",
    "#sometimes reference 20% is training accuracy and the testing on sample is validation accuracy"
   ]
  },
  {
   "cell_type": "markdown",
   "metadata": {},
   "source": [
    "## Version 2"
   ]
  },
  {
   "cell_type": "code",
   "execution_count": 13,
   "metadata": {},
   "outputs": [],
   "source": [
    "keywords = ['adorable', 'best scene', 'terrific', 'excellent', 'loved', 'best', 'great', 'enjoy']\n",
    "\n",
    "for key in keywords:\n",
    "    # Note that we add spaces around the key so that we're getting the word,\n",
    "    # not just pattern matching.\n",
    "    sms_raw[str(key)] = sms_raw.text.str.contains(\n",
    "        ' ' + str(key) + ' ',\n",
    "        case=False\n",
    "    )"
   ]
  },
  {
   "cell_type": "code",
   "execution_count": 14,
   "metadata": {},
   "outputs": [
    {
     "data": {
      "text/html": [
       "<div>\n",
       "<style scoped>\n",
       "    .dataframe tbody tr th:only-of-type {\n",
       "        vertical-align: middle;\n",
       "    }\n",
       "\n",
       "    .dataframe tbody tr th {\n",
       "        vertical-align: top;\n",
       "    }\n",
       "\n",
       "    .dataframe thead th {\n",
       "        text-align: right;\n",
       "    }\n",
       "</style>\n",
       "<table border=\"1\" class=\"dataframe\">\n",
       "  <thead>\n",
       "    <tr style=\"text-align: right;\">\n",
       "      <th></th>\n",
       "      <th>text</th>\n",
       "      <th>classification</th>\n",
       "      <th>good</th>\n",
       "      <th>loved</th>\n",
       "      <th>terrific</th>\n",
       "      <th>excellent</th>\n",
       "      <th>two</th>\n",
       "      <th>best</th>\n",
       "      <th>great</th>\n",
       "      <th>enjoy</th>\n",
       "      <th>adorable</th>\n",
       "      <th>best scene</th>\n",
       "    </tr>\n",
       "  </thead>\n",
       "  <tbody>\n",
       "    <tr>\n",
       "      <th>0</th>\n",
       "      <td>A very, very, very slow-moving, aimless movie ...</td>\n",
       "      <td>0</td>\n",
       "      <td>False</td>\n",
       "      <td>False</td>\n",
       "      <td>False</td>\n",
       "      <td>False</td>\n",
       "      <td>False</td>\n",
       "      <td>False</td>\n",
       "      <td>False</td>\n",
       "      <td>False</td>\n",
       "      <td>False</td>\n",
       "      <td>False</td>\n",
       "    </tr>\n",
       "    <tr>\n",
       "      <th>1</th>\n",
       "      <td>Not sure who was more lost - the flat characte...</td>\n",
       "      <td>0</td>\n",
       "      <td>False</td>\n",
       "      <td>False</td>\n",
       "      <td>False</td>\n",
       "      <td>False</td>\n",
       "      <td>False</td>\n",
       "      <td>False</td>\n",
       "      <td>False</td>\n",
       "      <td>False</td>\n",
       "      <td>False</td>\n",
       "      <td>False</td>\n",
       "    </tr>\n",
       "    <tr>\n",
       "      <th>2</th>\n",
       "      <td>Attempting artiness with black &amp; white and cle...</td>\n",
       "      <td>0</td>\n",
       "      <td>False</td>\n",
       "      <td>False</td>\n",
       "      <td>False</td>\n",
       "      <td>False</td>\n",
       "      <td>False</td>\n",
       "      <td>False</td>\n",
       "      <td>False</td>\n",
       "      <td>False</td>\n",
       "      <td>False</td>\n",
       "      <td>False</td>\n",
       "    </tr>\n",
       "    <tr>\n",
       "      <th>3</th>\n",
       "      <td>Very little music or anything to speak of.</td>\n",
       "      <td>0</td>\n",
       "      <td>False</td>\n",
       "      <td>False</td>\n",
       "      <td>False</td>\n",
       "      <td>False</td>\n",
       "      <td>False</td>\n",
       "      <td>False</td>\n",
       "      <td>False</td>\n",
       "      <td>False</td>\n",
       "      <td>False</td>\n",
       "      <td>False</td>\n",
       "    </tr>\n",
       "    <tr>\n",
       "      <th>4</th>\n",
       "      <td>The best scene in the movie was when Gerardo i...</td>\n",
       "      <td>1</td>\n",
       "      <td>False</td>\n",
       "      <td>False</td>\n",
       "      <td>False</td>\n",
       "      <td>False</td>\n",
       "      <td>False</td>\n",
       "      <td>True</td>\n",
       "      <td>False</td>\n",
       "      <td>False</td>\n",
       "      <td>False</td>\n",
       "      <td>True</td>\n",
       "    </tr>\n",
       "  </tbody>\n",
       "</table>\n",
       "</div>"
      ],
      "text/plain": [
       "                                                text  classification   good  \\\n",
       "0  A very, very, very slow-moving, aimless movie ...               0  False   \n",
       "1  Not sure who was more lost - the flat characte...               0  False   \n",
       "2  Attempting artiness with black & white and cle...               0  False   \n",
       "3       Very little music or anything to speak of.                 0  False   \n",
       "4  The best scene in the movie was when Gerardo i...               1  False   \n",
       "\n",
       "   loved  terrific  excellent    two   best  great  enjoy  adorable  \\\n",
       "0  False     False      False  False  False  False  False     False   \n",
       "1  False     False      False  False  False  False  False     False   \n",
       "2  False     False      False  False  False  False  False     False   \n",
       "3  False     False      False  False  False  False  False     False   \n",
       "4  False     False      False  False   True  False  False     False   \n",
       "\n",
       "   best scene  \n",
       "0       False  \n",
       "1       False  \n",
       "2       False  \n",
       "3       False  \n",
       "4        True  "
      ]
     },
     "execution_count": 14,
     "metadata": {},
     "output_type": "execute_result"
    }
   ],
   "source": [
    "sms_raw.head()"
   ]
  },
  {
   "cell_type": "code",
   "execution_count": 15,
   "metadata": {},
   "outputs": [
    {
     "data": {
      "text/plain": [
       "<matplotlib.axes._subplots.AxesSubplot at 0x25d48e29fd0>"
      ]
     },
     "execution_count": 15,
     "metadata": {},
     "output_type": "execute_result"
    },
    {
     "data": {
      "image/png": "[encoded data removed]",
      "text/plain": [
       "<Figure size 432x288 with 2 Axes>"
      ]
     },
     "metadata": {
      "needs_background": "light"
     },
     "output_type": "display_data"
    }
   ],
   "source": [
    "sns.heatmap(sms_raw.corr())"
   ]
  },
  {
   "cell_type": "code",
   "execution_count": 16,
   "metadata": {},
   "outputs": [],
   "source": [
    "data = sms_raw[keywords]\n",
    "target = sms_raw['classification']"
   ]
  },
  {
   "cell_type": "code",
   "execution_count": 17,
   "metadata": {},
   "outputs": [
    {
     "name": "stdout",
     "output_type": "stream",
     "text": [
      "Number of mislabeled points out of a total 748 points : 344\n",
      "54.01069518716578 %\n"
     ]
    }
   ],
   "source": [
    "# Our data is binary / boolean, so we're importing the Bernoulli classifier.\n",
    "from sklearn.naive_bayes import BernoulliNB\n",
    "\n",
    "# Instantiate our model and store it in a new variable.\n",
    "bnb = BernoulliNB()\n",
    "\n",
    "# Fit our model to the data.\n",
    "bnb.fit(data, target)\n",
    "\n",
    "# Classify, storing the result in a new variable.\n",
    "y_pred = bnb.predict(data)\n",
    "\n",
    "# Display our results.\n",
    "print(\"Number of mislabeled points out of a total {} points : {}\".format(\n",
    "    data.shape[0],\n",
    "    (target != y_pred).sum()\n",
    "))\n",
    "\n",
    "x = ((data.shape[0])-(target != y_pred).sum())\n",
    "print(\"{} %\".format(100*(x / (data.shape[0]))))"
   ]
  },
  {
   "cell_type": "code",
   "execution_count": 18,
   "metadata": {},
   "outputs": [
    {
     "data": {
      "text/plain": [
       "array([[353,   9],\n",
       "       [335,  51]], dtype=int64)"
      ]
     },
     "execution_count": 18,
     "metadata": {},
     "output_type": "execute_result"
    }
   ],
   "source": [
    "from sklearn.metrics import confusion_matrix\n",
    "confusion_matrix(target, y_pred)"
   ]
  },
  {
   "cell_type": "code",
   "execution_count": 19,
   "metadata": {},
   "outputs": [
    {
     "data": {
      "text/plain": [
       "array([0.53642384, 0.54      , 0.54362416, 0.54362416, 0.51677852])"
      ]
     },
     "execution_count": 19,
     "metadata": {},
     "output_type": "execute_result"
    }
   ],
   "source": [
    "from sklearn.model_selection import cross_val_score\n",
    "cross_val_score(bnb, data, target, cv=5)\n",
    "#cv represents folds"
   ]
  },
  {
   "cell_type": "code",
   "execution_count": 20,
   "metadata": {},
   "outputs": [
    {
     "name": "stdout",
     "output_type": "stream",
     "text": [
      "Testing on Sample: 0.5266666666666666\n",
      "Training on Model: 0.5434782608695652\n"
     ]
    }
   ],
   "source": [
    "#Test your model with different holdout groups.\n",
    "\n",
    "from sklearn.model_selection import train_test_split\n",
    "# Use train_test_split to create the necessary training and test groups\n",
    "X_train, X_test, y_train, y_test = train_test_split(data, target, test_size=0.2, random_state=20)\n",
    "print('Testing on Sample: ' + str(bnb.fit(X_train, y_train).score(X_test, y_test)))\n",
    "print('Training on Model: ' + str(bnb.fit(X_train, y_train).score(X_train, y_train)))\n",
    "#sometimes reference 20% is training accuracy and the testing on sample is validation accuracy"
   ]
  },
  {
   "cell_type": "markdown",
   "metadata": {},
   "source": [
    "## Version 3\n"
   ]
  },
  {
   "cell_type": "code",
   "execution_count": 21,
   "metadata": {},
   "outputs": [],
   "source": [
    "keywords = ['cool', 'love', 'great', 'excellent', 'best', 'awesome', 'enjoy']\n",
    "\n",
    "for key in keywords:\n",
    "    # Note that we add spaces around the key so that we're getting the word,\n",
    "    # not just pattern matching.\n",
    "    sms_raw[str(key)] = sms_raw.text.str.contains(\n",
    "        ' ' + str(key) + ' ',\n",
    "        case=False\n",
    "    )"
   ]
  },
  {
   "cell_type": "code",
   "execution_count": 22,
   "metadata": {},
   "outputs": [
    {
     "data": {
      "text/html": [
       "<div>\n",
       "<style scoped>\n",
       "    .dataframe tbody tr th:only-of-type {\n",
       "        vertical-align: middle;\n",
       "    }\n",
       "\n",
       "    .dataframe tbody tr th {\n",
       "        vertical-align: top;\n",
       "    }\n",
       "\n",
       "    .dataframe thead th {\n",
       "        text-align: right;\n",
       "    }\n",
       "</style>\n",
       "<table border=\"1\" class=\"dataframe\">\n",
       "  <thead>\n",
       "    <tr style=\"text-align: right;\">\n",
       "      <th></th>\n",
       "      <th>text</th>\n",
       "      <th>classification</th>\n",
       "      <th>good</th>\n",
       "      <th>loved</th>\n",
       "      <th>terrific</th>\n",
       "      <th>excellent</th>\n",
       "      <th>two</th>\n",
       "      <th>best</th>\n",
       "      <th>great</th>\n",
       "      <th>enjoy</th>\n",
       "      <th>adorable</th>\n",
       "      <th>best scene</th>\n",
       "      <th>cool</th>\n",
       "      <th>love</th>\n",
       "      <th>awesome</th>\n",
       "    </tr>\n",
       "  </thead>\n",
       "  <tbody>\n",
       "    <tr>\n",
       "      <th>0</th>\n",
       "      <td>A very, very, very slow-moving, aimless movie ...</td>\n",
       "      <td>0</td>\n",
       "      <td>False</td>\n",
       "      <td>False</td>\n",
       "      <td>False</td>\n",
       "      <td>False</td>\n",
       "      <td>False</td>\n",
       "      <td>False</td>\n",
       "      <td>False</td>\n",
       "      <td>False</td>\n",
       "      <td>False</td>\n",
       "      <td>False</td>\n",
       "      <td>False</td>\n",
       "      <td>False</td>\n",
       "      <td>False</td>\n",
       "    </tr>\n",
       "    <tr>\n",
       "      <th>1</th>\n",
       "      <td>Not sure who was more lost - the flat characte...</td>\n",
       "      <td>0</td>\n",
       "      <td>False</td>\n",
       "      <td>False</td>\n",
       "      <td>False</td>\n",
       "      <td>False</td>\n",
       "      <td>False</td>\n",
       "      <td>False</td>\n",
       "      <td>False</td>\n",
       "      <td>False</td>\n",
       "      <td>False</td>\n",
       "      <td>False</td>\n",
       "      <td>False</td>\n",
       "      <td>False</td>\n",
       "      <td>False</td>\n",
       "    </tr>\n",
       "    <tr>\n",
       "      <th>2</th>\n",
       "      <td>Attempting artiness with black &amp; white and cle...</td>\n",
       "      <td>0</td>\n",
       "      <td>False</td>\n",
       "      <td>False</td>\n",
       "      <td>False</td>\n",
       "      <td>False</td>\n",
       "      <td>False</td>\n",
       "      <td>False</td>\n",
       "      <td>False</td>\n",
       "      <td>False</td>\n",
       "      <td>False</td>\n",
       "      <td>False</td>\n",
       "      <td>False</td>\n",
       "      <td>False</td>\n",
       "      <td>False</td>\n",
       "    </tr>\n",
       "    <tr>\n",
       "      <th>3</th>\n",
       "      <td>Very little music or anything to speak of.</td>\n",
       "      <td>0</td>\n",
       "      <td>False</td>\n",
       "      <td>False</td>\n",
       "      <td>False</td>\n",
       "      <td>False</td>\n",
       "      <td>False</td>\n",
       "      <td>False</td>\n",
       "      <td>False</td>\n",
       "      <td>False</td>\n",
       "      <td>False</td>\n",
       "      <td>False</td>\n",
       "      <td>False</td>\n",
       "      <td>False</td>\n",
       "      <td>False</td>\n",
       "    </tr>\n",
       "    <tr>\n",
       "      <th>4</th>\n",
       "      <td>The best scene in the movie was when Gerardo i...</td>\n",
       "      <td>1</td>\n",
       "      <td>False</td>\n",
       "      <td>False</td>\n",
       "      <td>False</td>\n",
       "      <td>False</td>\n",
       "      <td>False</td>\n",
       "      <td>True</td>\n",
       "      <td>False</td>\n",
       "      <td>False</td>\n",
       "      <td>False</td>\n",
       "      <td>True</td>\n",
       "      <td>False</td>\n",
       "      <td>False</td>\n",
       "      <td>False</td>\n",
       "    </tr>\n",
       "  </tbody>\n",
       "</table>\n",
       "</div>"
      ],
      "text/plain": [
       "                                                text  classification   good  \\\n",
       "0  A very, very, very slow-moving, aimless movie ...               0  False   \n",
       "1  Not sure who was more lost - the flat characte...               0  False   \n",
       "2  Attempting artiness with black & white and cle...               0  False   \n",
       "3       Very little music or anything to speak of.                 0  False   \n",
       "4  The best scene in the movie was when Gerardo i...               1  False   \n",
       "\n",
       "   loved  terrific  excellent    two   best  great  enjoy  adorable  \\\n",
       "0  False     False      False  False  False  False  False     False   \n",
       "1  False     False      False  False  False  False  False     False   \n",
       "2  False     False      False  False  False  False  False     False   \n",
       "3  False     False      False  False  False  False  False     False   \n",
       "4  False     False      False  False   True  False  False     False   \n",
       "\n",
       "   best scene   cool   love  awesome  \n",
       "0       False  False  False    False  \n",
       "1       False  False  False    False  \n",
       "2       False  False  False    False  \n",
       "3       False  False  False    False  \n",
       "4        True  False  False    False  "
      ]
     },
     "execution_count": 22,
     "metadata": {},
     "output_type": "execute_result"
    }
   ],
   "source": [
    "sms_raw.head()"
   ]
  },
  {
   "cell_type": "code",
   "execution_count": 23,
   "metadata": {},
   "outputs": [
    {
     "data": {
      "text/plain": [
       "<matplotlib.axes._subplots.AxesSubplot at 0x25d48f0a898>"
      ]
     },
     "execution_count": 23,
     "metadata": {},
     "output_type": "execute_result"
    },
    {
     "data": {
      "image/png": "[encoded data removed]",
      "text/plain": [
       "<Figure size 432x288 with 2 Axes>"
      ]
     },
     "metadata": {
      "needs_background": "light"
     },
     "output_type": "display_data"
    }
   ],
   "source": [
    "sns.heatmap(sms_raw.corr())"
   ]
  },
  {
   "cell_type": "code",
   "execution_count": 24,
   "metadata": {},
   "outputs": [],
   "source": [
    "data = sms_raw[keywords]\n",
    "target = sms_raw['classification']"
   ]
  },
  {
   "cell_type": "code",
   "execution_count": 25,
   "metadata": {},
   "outputs": [
    {
     "name": "stdout",
     "output_type": "stream",
     "text": [
      "Number of mislabeled points out of a total 748 points : 344\n",
      "54.01069518716578 %\n"
     ]
    }
   ],
   "source": [
    "# Our data is binary / boolean, so we're importing the Bernoulli classifier.\n",
    "from sklearn.naive_bayes import BernoulliNB\n",
    "\n",
    "# Instantiate our model and store it in a new variable.\n",
    "bnb = BernoulliNB()\n",
    "\n",
    "# Fit our model to the data.\n",
    "bnb.fit(data, target)\n",
    "\n",
    "# Classify, storing the result in a new variable.\n",
    "y_pred = bnb.predict(data)\n",
    "\n",
    "# Display our results.\n",
    "print(\"Number of mislabeled points out of a total {} points : {}\".format(\n",
    "    data.shape[0],\n",
    "    (target != y_pred).sum()\n",
    "))\n",
    "\n",
    "x = ((data.shape[0])-(target != y_pred).sum())\n",
    "print(\"{} %\".format(100*(x / (data.shape[0]))))"
   ]
  },
  {
   "cell_type": "code",
   "execution_count": 26,
   "metadata": {},
   "outputs": [
    {
     "data": {
      "text/plain": [
       "array([[350,  12],\n",
       "       [332,  54]], dtype=int64)"
      ]
     },
     "execution_count": 26,
     "metadata": {},
     "output_type": "execute_result"
    }
   ],
   "source": [
    "from sklearn.metrics import confusion_matrix\n",
    "confusion_matrix(target, y_pred)"
   ]
  },
  {
   "cell_type": "code",
   "execution_count": 27,
   "metadata": {},
   "outputs": [
    {
     "data": {
      "text/plain": [
       "array([0.51655629, 0.54      , 0.55033557, 0.55704698, 0.51677852])"
      ]
     },
     "execution_count": 27,
     "metadata": {},
     "output_type": "execute_result"
    }
   ],
   "source": [
    "from sklearn.model_selection import cross_val_score\n",
    "cross_val_score(bnb, data, target, cv=5)\n",
    "#cv represents folds"
   ]
  },
  {
   "cell_type": "code",
   "execution_count": 28,
   "metadata": {},
   "outputs": [
    {
     "name": "stdout",
     "output_type": "stream",
     "text": [
      "Testing on Sample: 0.52\n",
      "Training on Model: 0.5434782608695652\n"
     ]
    }
   ],
   "source": [
    "#Test your model with different holdout groups.\n",
    "\n",
    "from sklearn.model_selection import train_test_split\n",
    "# Use train_test_split to create the necessary training and test groups\n",
    "X_train, X_test, y_train, y_test = train_test_split(data, target, test_size=0.2, random_state=20)\n",
    "print('Testing on Sample: ' + str(bnb.fit(X_train, y_train).score(X_test, y_test)))\n",
    "print('Training on Model: ' + str(bnb.fit(X_train, y_train).score(X_train, y_train)))\n",
    "#sometimes reference 20% is training accuracy and the testing on sample is validation accuracy"
   ]
  },
  {
   "cell_type": "markdown",
   "metadata": {},
   "source": [
    "## Version 4"
   ]
  },
  {
   "cell_type": "code",
   "execution_count": 29,
   "metadata": {},
   "outputs": [],
   "source": [
    "keywords = ['good', 'loved', 'terrific', 'excellent', 'two', 'best', 'great', 'enjoy', 'beautiful']\n",
    "\n",
    "for key in keywords:\n",
    "    # Note that we add spaces around the key so that we're getting the word,\n",
    "    # not just pattern matching.\n",
    "    sms_raw[str(key)] = sms_raw.text.str.contains(\n",
    "        ' ' + str(key) + ' ',\n",
    "        case=False\n",
    "    )"
   ]
  },
  {
   "cell_type": "code",
   "execution_count": 30,
   "metadata": {},
   "outputs": [
    {
     "data": {
      "text/html": [
       "<div>\n",
       "<style scoped>\n",
       "    .dataframe tbody tr th:only-of-type {\n",
       "        vertical-align: middle;\n",
       "    }\n",
       "\n",
       "    .dataframe tbody tr th {\n",
       "        vertical-align: top;\n",
       "    }\n",
       "\n",
       "    .dataframe thead th {\n",
       "        text-align: right;\n",
       "    }\n",
       "</style>\n",
       "<table border=\"1\" class=\"dataframe\">\n",
       "  <thead>\n",
       "    <tr style=\"text-align: right;\">\n",
       "      <th></th>\n",
       "      <th>text</th>\n",
       "      <th>classification</th>\n",
       "      <th>good</th>\n",
       "      <th>loved</th>\n",
       "      <th>terrific</th>\n",
       "      <th>excellent</th>\n",
       "      <th>two</th>\n",
       "      <th>best</th>\n",
       "      <th>great</th>\n",
       "      <th>enjoy</th>\n",
       "      <th>adorable</th>\n",
       "      <th>best scene</th>\n",
       "      <th>cool</th>\n",
       "      <th>love</th>\n",
       "      <th>awesome</th>\n",
       "      <th>beautiful</th>\n",
       "    </tr>\n",
       "  </thead>\n",
       "  <tbody>\n",
       "    <tr>\n",
       "      <th>0</th>\n",
       "      <td>A very, very, very slow-moving, aimless movie ...</td>\n",
       "      <td>0</td>\n",
       "      <td>False</td>\n",
       "      <td>False</td>\n",
       "      <td>False</td>\n",
       "      <td>False</td>\n",
       "      <td>False</td>\n",
       "      <td>False</td>\n",
       "      <td>False</td>\n",
       "      <td>False</td>\n",
       "      <td>False</td>\n",
       "      <td>False</td>\n",
       "      <td>False</td>\n",
       "      <td>False</td>\n",
       "      <td>False</td>\n",
       "      <td>False</td>\n",
       "    </tr>\n",
       "    <tr>\n",
       "      <th>1</th>\n",
       "      <td>Not sure who was more lost - the flat characte...</td>\n",
       "      <td>0</td>\n",
       "      <td>False</td>\n",
       "      <td>False</td>\n",
       "      <td>False</td>\n",
       "      <td>False</td>\n",
       "      <td>False</td>\n",
       "      <td>False</td>\n",
       "      <td>False</td>\n",
       "      <td>False</td>\n",
       "      <td>False</td>\n",
       "      <td>False</td>\n",
       "      <td>False</td>\n",
       "      <td>False</td>\n",
       "      <td>False</td>\n",
       "      <td>False</td>\n",
       "    </tr>\n",
       "    <tr>\n",
       "      <th>2</th>\n",
       "      <td>Attempting artiness with black &amp; white and cle...</td>\n",
       "      <td>0</td>\n",
       "      <td>False</td>\n",
       "      <td>False</td>\n",
       "      <td>False</td>\n",
       "      <td>False</td>\n",
       "      <td>False</td>\n",
       "      <td>False</td>\n",
       "      <td>False</td>\n",
       "      <td>False</td>\n",
       "      <td>False</td>\n",
       "      <td>False</td>\n",
       "      <td>False</td>\n",
       "      <td>False</td>\n",
       "      <td>False</td>\n",
       "      <td>False</td>\n",
       "    </tr>\n",
       "    <tr>\n",
       "      <th>3</th>\n",
       "      <td>Very little music or anything to speak of.</td>\n",
       "      <td>0</td>\n",
       "      <td>False</td>\n",
       "      <td>False</td>\n",
       "      <td>False</td>\n",
       "      <td>False</td>\n",
       "      <td>False</td>\n",
       "      <td>False</td>\n",
       "      <td>False</td>\n",
       "      <td>False</td>\n",
       "      <td>False</td>\n",
       "      <td>False</td>\n",
       "      <td>False</td>\n",
       "      <td>False</td>\n",
       "      <td>False</td>\n",
       "      <td>False</td>\n",
       "    </tr>\n",
       "    <tr>\n",
       "      <th>4</th>\n",
       "      <td>The best scene in the movie was when Gerardo i...</td>\n",
       "      <td>1</td>\n",
       "      <td>False</td>\n",
       "      <td>False</td>\n",
       "      <td>False</td>\n",
       "      <td>False</td>\n",
       "      <td>False</td>\n",
       "      <td>True</td>\n",
       "      <td>False</td>\n",
       "      <td>False</td>\n",
       "      <td>False</td>\n",
       "      <td>True</td>\n",
       "      <td>False</td>\n",
       "      <td>False</td>\n",
       "      <td>False</td>\n",
       "      <td>False</td>\n",
       "    </tr>\n",
       "  </tbody>\n",
       "</table>\n",
       "</div>"
      ],
      "text/plain": [
       "                                                text  classification   good  \\\n",
       "0  A very, very, very slow-moving, aimless movie ...               0  False   \n",
       "1  Not sure who was more lost - the flat characte...               0  False   \n",
       "2  Attempting artiness with black & white and cle...               0  False   \n",
       "3       Very little music or anything to speak of.                 0  False   \n",
       "4  The best scene in the movie was when Gerardo i...               1  False   \n",
       "\n",
       "   loved  terrific  excellent    two   best  great  enjoy  adorable  \\\n",
       "0  False     False      False  False  False  False  False     False   \n",
       "1  False     False      False  False  False  False  False     False   \n",
       "2  False     False      False  False  False  False  False     False   \n",
       "3  False     False      False  False  False  False  False     False   \n",
       "4  False     False      False  False   True  False  False     False   \n",
       "\n",
       "   best scene   cool   love  awesome  beautiful  \n",
       "0       False  False  False    False      False  \n",
       "1       False  False  False    False      False  \n",
       "2       False  False  False    False      False  \n",
       "3       False  False  False    False      False  \n",
       "4        True  False  False    False      False  "
      ]
     },
     "execution_count": 30,
     "metadata": {},
     "output_type": "execute_result"
    }
   ],
   "source": [
    "sms_raw.head()"
   ]
  },
  {
   "cell_type": "code",
   "execution_count": 31,
   "metadata": {},
   "outputs": [
    {
     "data": {
      "text/plain": [
       "<matplotlib.axes._subplots.AxesSubplot at 0x25d48fe1828>"
      ]
     },
     "execution_count": 31,
     "metadata": {},
     "output_type": "execute_result"
    },
    {
     "data": {
      "image/png": "[encoded data removed]",
      "text/plain": [
       "<Figure size 432x288 with 2 Axes>"
      ]
     },
     "metadata": {
      "needs_background": "light"
     },
     "output_type": "display_data"
    }
   ],
   "source": [
    "sns.heatmap(sms_raw.corr())"
   ]
  },
  {
   "cell_type": "code",
   "execution_count": 32,
   "metadata": {},
   "outputs": [],
   "source": [
    "data = sms_raw[keywords]\n",
    "target = sms_raw['classification']"
   ]
  },
  {
   "cell_type": "code",
   "execution_count": 33,
   "metadata": {},
   "outputs": [
    {
     "name": "stdout",
     "output_type": "stream",
     "text": [
      "Number of mislabeled points out of a total 748 points : 328\n",
      "56.14973262032086 %\n"
     ]
    }
   ],
   "source": [
    "# Our data is binary / boolean, so we're importing the Bernoulli classifier.\n",
    "from sklearn.naive_bayes import BernoulliNB\n",
    "\n",
    "# Instantiate our model and store it in a new variable.\n",
    "bnb = BernoulliNB()\n",
    "\n",
    "# Fit our model to the data.\n",
    "bnb.fit(data, target)\n",
    "\n",
    "# Classify, storing the result in a new variable.\n",
    "y_pred = bnb.predict(data)\n",
    "\n",
    "# Display our results.\n",
    "print(\"Number of mislabeled points out of a total {} points : {}\".format(\n",
    "    data.shape[0],\n",
    "    (target != y_pred).sum()\n",
    "))\n",
    "\n",
    "x = ((data.shape[0])-(target != y_pred).sum())\n",
    "print(\"{} %\".format(100*(x / (data.shape[0]))))"
   ]
  },
  {
   "cell_type": "code",
   "execution_count": 34,
   "metadata": {},
   "outputs": [
    {
     "data": {
      "text/plain": [
       "array([[341,  21],\n",
       "       [307,  79]], dtype=int64)"
      ]
     },
     "execution_count": 34,
     "metadata": {},
     "output_type": "execute_result"
    }
   ],
   "source": [
    "from sklearn.metrics import confusion_matrix\n",
    "confusion_matrix(target, y_pred)"
   ]
  },
  {
   "cell_type": "code",
   "execution_count": 35,
   "metadata": {},
   "outputs": [
    {
     "data": {
      "text/plain": [
       "array([0.53642384, 0.58666667, 0.54362416, 0.59060403, 0.51006711])"
      ]
     },
     "execution_count": 35,
     "metadata": {},
     "output_type": "execute_result"
    }
   ],
   "source": [
    "from sklearn.model_selection import cross_val_score\n",
    "cross_val_score(bnb, data, target, cv=5)\n",
    "#cv represents folds"
   ]
  },
  {
   "cell_type": "code",
   "execution_count": 36,
   "metadata": {},
   "outputs": [
    {
     "name": "stdout",
     "output_type": "stream",
     "text": [
      "Testing on Sample: 0.54\n",
      "Training on Model: 0.5668896321070234\n"
     ]
    }
   ],
   "source": [
    "#Test your model with different holdout groups.\n",
    "\n",
    "from sklearn.model_selection import train_test_split\n",
    "# Use train_test_split to create the necessary training and test groups\n",
    "X_train, X_test, y_train, y_test = train_test_split(data, target, test_size=0.2, random_state=20)\n",
    "print('Testing on Sample: ' + str(bnb.fit(X_train, y_train).score(X_test, y_test)))\n",
    "print('Training on Model: ' + str(bnb.fit(X_train, y_train).score(X_train, y_train)))\n",
    "#sometimes reference 20% is training accuracy and the testing on sample is validation accuracy"
   ]
  },
  {
   "cell_type": "markdown",
   "metadata": {},
   "source": [
    "## Version 5"
   ]
  },
  {
   "cell_type": "code",
   "execution_count": 37,
   "metadata": {},
   "outputs": [],
   "source": [
    "keywords = ['good', 'loved', 'excellent', 'two', 'best', 'scene', 'enjoy', 'like']\n",
    "\n",
    "for key in keywords:\n",
    "    # Note that we add spaces around the key so that we're getting the word,\n",
    "    # not just pattern matching.\n",
    "    sms_raw[str(key)] = sms_raw.text.str.contains(\n",
    "        ' ' + str(key) + ' ',\n",
    "        case=False\n",
    "    )"
   ]
  },
  {
   "cell_type": "code",
   "execution_count": 38,
   "metadata": {},
   "outputs": [
    {
     "data": {
      "text/html": [
       "<div>\n",
       "<style scoped>\n",
       "    .dataframe tbody tr th:only-of-type {\n",
       "        vertical-align: middle;\n",
       "    }\n",
       "\n",
       "    .dataframe tbody tr th {\n",
       "        vertical-align: top;\n",
       "    }\n",
       "\n",
       "    .dataframe thead th {\n",
       "        text-align: right;\n",
       "    }\n",
       "</style>\n",
       "<table border=\"1\" class=\"dataframe\">\n",
       "  <thead>\n",
       "    <tr style=\"text-align: right;\">\n",
       "      <th></th>\n",
       "      <th>text</th>\n",
       "      <th>classification</th>\n",
       "      <th>good</th>\n",
       "      <th>loved</th>\n",
       "      <th>terrific</th>\n",
       "      <th>excellent</th>\n",
       "      <th>two</th>\n",
       "      <th>best</th>\n",
       "      <th>great</th>\n",
       "      <th>enjoy</th>\n",
       "      <th>adorable</th>\n",
       "      <th>best scene</th>\n",
       "      <th>cool</th>\n",
       "      <th>love</th>\n",
       "      <th>awesome</th>\n",
       "      <th>beautiful</th>\n",
       "      <th>scene</th>\n",
       "      <th>like</th>\n",
       "    </tr>\n",
       "  </thead>\n",
       "  <tbody>\n",
       "    <tr>\n",
       "      <th>0</th>\n",
       "      <td>A very, very, very slow-moving, aimless movie ...</td>\n",
       "      <td>0</td>\n",
       "      <td>False</td>\n",
       "      <td>False</td>\n",
       "      <td>False</td>\n",
       "      <td>False</td>\n",
       "      <td>False</td>\n",
       "      <td>False</td>\n",
       "      <td>False</td>\n",
       "      <td>False</td>\n",
       "      <td>False</td>\n",
       "      <td>False</td>\n",
       "      <td>False</td>\n",
       "      <td>False</td>\n",
       "      <td>False</td>\n",
       "      <td>False</td>\n",
       "      <td>False</td>\n",
       "      <td>False</td>\n",
       "    </tr>\n",
       "    <tr>\n",
       "      <th>1</th>\n",
       "      <td>Not sure who was more lost - the flat characte...</td>\n",
       "      <td>0</td>\n",
       "      <td>False</td>\n",
       "      <td>False</td>\n",
       "      <td>False</td>\n",
       "      <td>False</td>\n",
       "      <td>False</td>\n",
       "      <td>False</td>\n",
       "      <td>False</td>\n",
       "      <td>False</td>\n",
       "      <td>False</td>\n",
       "      <td>False</td>\n",
       "      <td>False</td>\n",
       "      <td>False</td>\n",
       "      <td>False</td>\n",
       "      <td>False</td>\n",
       "      <td>False</td>\n",
       "      <td>False</td>\n",
       "    </tr>\n",
       "    <tr>\n",
       "      <th>2</th>\n",
       "      <td>Attempting artiness with black &amp; white and cle...</td>\n",
       "      <td>0</td>\n",
       "      <td>False</td>\n",
       "      <td>False</td>\n",
       "      <td>False</td>\n",
       "      <td>False</td>\n",
       "      <td>False</td>\n",
       "      <td>False</td>\n",
       "      <td>False</td>\n",
       "      <td>False</td>\n",
       "      <td>False</td>\n",
       "      <td>False</td>\n",
       "      <td>False</td>\n",
       "      <td>False</td>\n",
       "      <td>False</td>\n",
       "      <td>False</td>\n",
       "      <td>False</td>\n",
       "      <td>False</td>\n",
       "    </tr>\n",
       "    <tr>\n",
       "      <th>3</th>\n",
       "      <td>Very little music or anything to speak of.</td>\n",
       "      <td>0</td>\n",
       "      <td>False</td>\n",
       "      <td>False</td>\n",
       "      <td>False</td>\n",
       "      <td>False</td>\n",
       "      <td>False</td>\n",
       "      <td>False</td>\n",
       "      <td>False</td>\n",
       "      <td>False</td>\n",
       "      <td>False</td>\n",
       "      <td>False</td>\n",
       "      <td>False</td>\n",
       "      <td>False</td>\n",
       "      <td>False</td>\n",
       "      <td>False</td>\n",
       "      <td>False</td>\n",
       "      <td>False</td>\n",
       "    </tr>\n",
       "    <tr>\n",
       "      <th>4</th>\n",
       "      <td>The best scene in the movie was when Gerardo i...</td>\n",
       "      <td>1</td>\n",
       "      <td>False</td>\n",
       "      <td>False</td>\n",
       "      <td>False</td>\n",
       "      <td>False</td>\n",
       "      <td>False</td>\n",
       "      <td>True</td>\n",
       "      <td>False</td>\n",
       "      <td>False</td>\n",
       "      <td>False</td>\n",
       "      <td>True</td>\n",
       "      <td>False</td>\n",
       "      <td>False</td>\n",
       "      <td>False</td>\n",
       "      <td>False</td>\n",
       "      <td>True</td>\n",
       "      <td>False</td>\n",
       "    </tr>\n",
       "  </tbody>\n",
       "</table>\n",
       "</div>"
      ],
      "text/plain": [
       "                                                text  classification   good  \\\n",
       "0  A very, very, very slow-moving, aimless movie ...               0  False   \n",
       "1  Not sure who was more lost - the flat characte...               0  False   \n",
       "2  Attempting artiness with black & white and cle...               0  False   \n",
       "3       Very little music or anything to speak of.                 0  False   \n",
       "4  The best scene in the movie was when Gerardo i...               1  False   \n",
       "\n",
       "   loved  terrific  excellent    two   best  great  enjoy  adorable  \\\n",
       "0  False     False      False  False  False  False  False     False   \n",
       "1  False     False      False  False  False  False  False     False   \n",
       "2  False     False      False  False  False  False  False     False   \n",
       "3  False     False      False  False  False  False  False     False   \n",
       "4  False     False      False  False   True  False  False     False   \n",
       "\n",
       "   best scene   cool   love  awesome  beautiful  scene   like  \n",
       "0       False  False  False    False      False  False  False  \n",
       "1       False  False  False    False      False  False  False  \n",
       "2       False  False  False    False      False  False  False  \n",
       "3       False  False  False    False      False  False  False  \n",
       "4        True  False  False    False      False   True  False  "
      ]
     },
     "execution_count": 38,
     "metadata": {},
     "output_type": "execute_result"
    }
   ],
   "source": [
    "sms_raw.head()"
   ]
  },
  {
   "cell_type": "code",
   "execution_count": 39,
   "metadata": {},
   "outputs": [
    {
     "data": {
      "text/plain": [
       "<matplotlib.axes._subplots.AxesSubplot at 0x25d490a3780>"
      ]
     },
     "execution_count": 39,
     "metadata": {},
     "output_type": "execute_result"
    },
    {
     "data": {
      "image/png": "[encoded data removed]",
      "text/plain": [
       "<Figure size 432x288 with 2 Axes>"
      ]
     },
     "metadata": {
      "needs_background": "light"
     },
     "output_type": "display_data"
    }
   ],
   "source": [
    "sns.heatmap(sms_raw.corr())"
   ]
  },
  {
   "cell_type": "code",
   "execution_count": 40,
   "metadata": {},
   "outputs": [],
   "source": [
    "data = sms_raw[keywords]\n",
    "target = sms_raw['classification']"
   ]
  },
  {
   "cell_type": "code",
   "execution_count": 41,
   "metadata": {},
   "outputs": [
    {
     "name": "stdout",
     "output_type": "stream",
     "text": [
      "Number of mislabeled points out of a total 748 points : 346\n",
      "53.7433155080214 %\n"
     ]
    }
   ],
   "source": [
    "# Our data is binary / boolean, so we're importing the Bernoulli classifier.\n",
    "from sklearn.naive_bayes import BernoulliNB\n",
    "\n",
    "# Instantiate our model and store it in a new variable.\n",
    "bnb = BernoulliNB()\n",
    "\n",
    "# Fit our model to the data.\n",
    "bnb.fit(data, target)\n",
    "\n",
    "# Classify, storing the result in a new variable.\n",
    "y_pred = bnb.predict(data)\n",
    "\n",
    "# Display our results.\n",
    "print(\"Number of mislabeled points out of a total {} points : {}\".format(\n",
    "    data.shape[0],\n",
    "    (target != y_pred).sum()\n",
    "))\n",
    "\n",
    "x = ((data.shape[0])-(target != y_pred).sum())\n",
    "print(\"{} %\".format(100*(x / (data.shape[0]))))"
   ]
  },
  {
   "cell_type": "code",
   "execution_count": 42,
   "metadata": {},
   "outputs": [
    {
     "data": {
      "text/plain": [
       "array([[345,  17],\n",
       "       [329,  57]], dtype=int64)"
      ]
     },
     "execution_count": 42,
     "metadata": {},
     "output_type": "execute_result"
    }
   ],
   "source": [
    "from sklearn.metrics import confusion_matrix\n",
    "confusion_matrix(target, y_pred)"
   ]
  },
  {
   "cell_type": "code",
   "execution_count": 43,
   "metadata": {},
   "outputs": [
    {
     "data": {
      "text/plain": [
       "array([0.51655629, 0.56      , 0.5033557 , 0.51677852, 0.48993289])"
      ]
     },
     "execution_count": 43,
     "metadata": {},
     "output_type": "execute_result"
    }
   ],
   "source": [
    "from sklearn.model_selection import cross_val_score\n",
    "cross_val_score(bnb, data, target, cv=5)\n",
    "#cv represents folds"
   ]
  },
  {
   "cell_type": "code",
   "execution_count": 44,
   "metadata": {},
   "outputs": [
    {
     "name": "stdout",
     "output_type": "stream",
     "text": [
      "Testing on Sample: 0.5266666666666666\n",
      "Training on Model: 0.540133779264214\n"
     ]
    }
   ],
   "source": [
    "#Test your model with different holdout groups.\n",
    "\n",
    "from sklearn.model_selection import train_test_split\n",
    "# Use train_test_split to create the necessary training and test groups\n",
    "X_train, X_test, y_train, y_test = train_test_split(data, target, test_size=0.2, random_state=20)\n",
    "print('Testing on Sample: ' + str(bnb.fit(X_train, y_train).score(X_test, y_test)))\n",
    "print('Training on Model: ' + str(bnb.fit(X_train, y_train).score(X_train, y_train)))\n",
    "#sometimes reference 20% is training accuracy and the testing on sample is validation accuracy"
   ]
  },
  {
   "cell_type": "markdown",
   "metadata": {},
   "source": [
    "Version number 4 seems to be the best performance given the dataset. It's accuracy is about 57% with compared to the first set of features with the classifier. Versions number 2,3,5 have lower numbers for the accuracy and a bit of overfitting in the corrolation heat matrix that you can see. Cross validation seems to always fall in line with features being used.   "
   ]
  }
 ],
 "metadata": {
  "kernelspec": {
   "display_name": "Python 3",
   "language": "python",
   "name": "python3"
  },
  "language_info": {
   "codemirror_mode": {
    "name": "ipython",
    "version": 3
   },
   "file_extension": ".py",
   "mimetype": "text/x-python",
   "name": "python",
   "nbconvert_exporter": "python",
   "pygments_lexer": "ipython3",
   "version": "3.7.3"
  }
 },
 "nbformat": 4,
 "nbformat_minor": 2
}
