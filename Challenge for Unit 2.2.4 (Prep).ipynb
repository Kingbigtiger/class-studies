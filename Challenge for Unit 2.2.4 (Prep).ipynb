{
 "cells": [
  {
   "cell_type": "code",
   "execution_count": 1,
   "metadata": {},
   "outputs": [
    {
     "name": "stdout",
     "output_type": "stream",
     "text": [
      "    Year  Free  Reduced Price  Full Price  Total Total Lunches  \\\n",
      "0    NaN   NaN            NaN         NaN    NaN           NaN   \n",
      "1   1969   2.9            1.0        16.5   19.4      3,368.20   \n",
      "2   1970   4.6            1.0        17.8   22.4      3,565.10   \n",
      "3   1971   5.8            0.5        17.8   24.1      3,848.30   \n",
      "4   1972   7.3            0.5        16.6   24.4      3,972.10   \n",
      "5   1973   8.1            0.5        16.1   24.7      4,008.80   \n",
      "6   1974   8.6            0.5        15.5   24.6      3,981.60   \n",
      "7   1975   9.4            0.6        14.9   24.9      4,063.00   \n",
      "8   1976  10.2            0.8        14.6   25.6      4,147.90   \n",
      "9   1977  10.5            1.3        14.5   26.2      4,250.00   \n",
      "10  1978  10.3            1.5        14.9   26.7      4,294.10   \n",
      "11  1979  10.0            1.7        15.3   27.0      4,357.40   \n",
      "12  1980  10.0            1.9        14.7   26.6      4,387.00   \n",
      "13  1981  10.6            1.9        13.3   25.8      4,210.60   \n",
      "14  1982   9.8            1.6        11.5   22.9      3,755.00   \n",
      "15  1983  10.3            1.5        11.2   23.0      3,803.30   \n",
      "16  1984  10.3            1.5        11.5   23.4      3,826.20   \n",
      "17  1985   9.9            1.6        12.1   23.6      3,890.10   \n",
      "18  1986  10.0            1.6        12.2   23.7      3,942.50   \n",
      "19  1987  10.0            1.6        12.4   23.9      3,939.90   \n",
      "20  1988   9.8            1.6        12.8   24.2      4,032.90   \n",
      "21  1989   9.7            1.6        12.9   24.2      4,004.90   \n",
      "22  1990   9.8            1.7        12.6   24.1      4,009.00   \n",
      "23  1991  10.3            1.8        12.2   24.2      4,050.70   \n",
      "24  1992  11.2            1.7        11.7   24.6      4,101.40   \n",
      "25  1993  11.7            1.7        11.4   24.9      4,137.70   \n",
      "26  1994  12.2            1.8        11.3   25.3      4,201.60   \n",
      "27  1995  12.4            1.9        11.4   25.7      4,253.30   \n",
      "28  1996  12.6            2.0        11.3   25.9      4,313.20   \n",
      "29  1997  12.9            2.1        11.3   26.3      4,409.00   \n",
      "30  1998  13.0            2.2        11.4   26.6      4,425.00   \n",
      "31  1999  13.0            2.4        11.6   27.0      4,513.60   \n",
      "32  2000  13.0            2.5        11.9   27.3      4,575.00   \n",
      "33  2001  12.9            2.6        12.0   27.5      4,585.20   \n",
      "34  2002  13.3            2.6        12.0   28.0      4,716.60   \n",
      "35  2003  13.7            2.7        11.9   28.4      4,762.90   \n",
      "36  2004  14.1            2.8        12.0   29.0      4,842.40   \n",
      "37  2005  14.6            2.9        12.2   29.6      4,976.40   \n",
      "38  2006  14.8            2.9        12.4   30.1      5,027.90   \n",
      "39  2007  15.0            3.1        12.6   30.6      5,071.30   \n",
      "40  2008  15.4            3.1        12.5   31.0      5,208.50   \n",
      "41  2009  16.3            3.2        11.9   31.3      5,186.00   \n",
      "42  2010  17.6            3.0        11.1   31.8      5,278.40   \n",
      "43  2011  18.4            2.7        10.8   31.8      5,274.50   \n",
      "44  2012  18.7            2.7        10.2   31.7      5,214.80   \n",
      "45  2013  18.9            2.6         9.2   30.7      5,097.60   \n",
      "46  2014  19.2            2.5         8.8   30.5      5,020.40   \n",
      "47  2015  19.8            2.2         8.5   30.5      5,005.40   \n",
      "48  2016  20.1            2.0         8.2   30.4      5,052.90   \n",
      "49  2017  20.0            2.0         8.0   30.0      4,891.40   \n",
      "50  2018  20.2            1.8         7.7   29.7      4,850.80   \n",
      "51         NaN            NaN         NaN    NaN           NaN   \n",
      "\n",
      "    Percent Free/RP   \n",
      "0                NaN  \n",
      "1               15.1  \n",
      "2               20.7  \n",
      "3               26.1  \n",
      "4               32.4  \n",
      "5               35.0  \n",
      "6               37.1  \n",
      "7               40.3  \n",
      "8               43.1  \n",
      "9               44.8  \n",
      "10              44.4  \n",
      "11              43.6  \n",
      "12              45.1  \n",
      "13              48.6  \n",
      "14              50.2  \n",
      "15              51.7  \n",
      "16              51.0  \n",
      "17              49.1  \n",
      "18              49.1  \n",
      "19              48.6  \n",
      "20              47.4  \n",
      "21              47.2  \n",
      "22              48.3  \n",
      "23              50.4  \n",
      "24              53.1  \n",
      "25              54.8  \n",
      "26              55.9  \n",
      "27              56.4  \n",
      "28              56.9  \n",
      "29              57.6  \n",
      "30              57.8  \n",
      "31              57.6  \n",
      "32              57.1  \n",
      "33              56.8  \n",
      "34              57.6  \n",
      "35              58.5  \n",
      "36              59.1  \n",
      "37              59.4  \n",
      "38              59.3  \n",
      "39              59.3  \n",
      "40              60.1  \n",
      "41              62.6  \n",
      "42              65.3  \n",
      "43              66.6  \n",
      "44              68.2  \n",
      "45              70.5  \n",
      "46              71.6  \n",
      "47              72.6  \n",
      "48              73.3  \n",
      "49              73.6  \n",
      "50              74.3  \n",
      "51               NaN  \n"
     ]
    }
   ],
   "source": [
    "import pandas as pd\n",
    "import numpy as np\n",
    "import matplotlib.pyplot as plt\n",
    "%matplotlib inline\n",
    "\n",
    "df = pd.read_csv('lunchbreak1.csv')\n",
    "print(df)\n",
    "    \n"
   ]
  },
  {
   "cell_type": "code",
   "execution_count": 2,
   "metadata": {},
   "outputs": [
    {
     "data": {
      "image/png": "[encoded data removed]",
      "text/plain": [
       "<Figure size 432x288 with 1 Axes>"
      ]
     },
     "metadata": {
      "needs_background": "light"
     },
     "output_type": "display_data"
    }
   ],
   "source": [
    "year = df['Year']\n",
    "free_lunch = df['Free']\n",
    "x = year\n",
    "y = free_lunch\n",
    "\n",
    "plt.scatter(year,free_lunch, edgecolors='r')\n",
    "plt.title('Participation')\n",
    "plt.xlabel('Years')\n",
    "plt.ylabel('Free Lunches -- mil')\n",
    "\n",
    "plt.show()\n",
    "\n"
   ]
  },
  {
   "cell_type": "markdown",
   "metadata": {},
   "source": [
    "Indications for issues in hunger in young children due to not enough money. With the increase in free lunches there is a high precentage of participation through the last 50 years"
   ]
  },
  {
   "cell_type": "code",
   "execution_count": 3,
   "metadata": {},
   "outputs": [
    {
     "data": {
      "image/png": "[encoded data removed]",
      "text/plain": [
       "<Figure size 432x288 with 1 Axes>"
      ]
     },
     "metadata": {
      "needs_background": "light"
     },
     "output_type": "display_data"
    }
   ],
   "source": [
    "year = df['Year']\n",
    "reduced_price = df['Reduced Price']\n",
    "x = year\n",
    "y = reduced_price\n",
    "\n",
    "plt.scatter(year,reduced_price, edgecolors='r')\n",
    "plt.title('Participation')\n",
    "plt.xlabel('Years')\n",
    "plt.ylabel('Reduced Price Lunches -- mil')\n",
    "\n",
    "plt.show()\n"
   ]
  },
  {
   "cell_type": "markdown",
   "metadata": {},
   "source": [
    "During the last 50 years there have been a few trends in reduced price lunches.  "
   ]
  },
  {
   "cell_type": "code",
   "execution_count": 4,
   "metadata": {},
   "outputs": [
    {
     "data": {
      "image/png": "[encoded data removed]",
      "text/plain": [
       "<Figure size 432x288 with 1 Axes>"
      ]
     },
     "metadata": {
      "needs_background": "light"
     },
     "output_type": "display_data"
    }
   ],
   "source": [
    "year = df['Year']\n",
    "full_price = df['Full Price']\n",
    "x = year\n",
    "y = full_price\n",
    "\n",
    "plt.scatter(year,full_price, edgecolors='r')\n",
    "plt.title('Participation')\n",
    "plt.xlabel('Years')\n",
    "plt.ylabel('Full Price Lunches -- mil')\n",
    "\n",
    "plt.show()"
   ]
  },
  {
   "cell_type": "markdown",
   "metadata": {},
   "source": [
    "Full Price participation has declined due to participation over the last 50 years. "
   ]
  },
  {
   "cell_type": "code",
   "execution_count": 5,
   "metadata": {},
   "outputs": [
    {
     "data": {
      "image/png": "[encoded data removed]",
      "text/plain": [
       "<Figure size 432x288 with 1 Axes>"
      ]
     },
     "metadata": {
      "needs_background": "light"
     },
     "output_type": "display_data"
    }
   ],
   "source": [
    "year = df['Year']\n",
    "total_participants = df['Total']\n",
    "x = year\n",
    "y = total_participants\n",
    "\n",
    "plt.scatter(year,total_participants, edgecolor='r')\n",
    "plt.title('Participation')\n",
    "plt.xlabel('Years')\n",
    "plt.ylabel('Total Participants -- mil')\n",
    "\n",
    "plt.show()"
   ]
  },
  {
   "cell_type": "markdown",
   "metadata": {},
   "source": [
    "Overall Participation has declined not inline with other graphs above. "
   ]
  },
  {
   "cell_type": "code",
   "execution_count": 6,
   "metadata": {},
   "outputs": [
    {
     "data": {
      "image/png": "[encoded data removed]",
      "text/plain": [
       "<Figure size 432x288 with 1 Axes>"
      ]
     },
     "metadata": {
      "needs_background": "light"
     },
     "output_type": "display_data"
    }
   ],
   "source": [
    "reduced_price = df['Reduced Price']\n",
    "free_lunch = df['Free']\n",
    "\n",
    "x = reduced_price\n",
    "y = free_lunch\n",
    "\n",
    "plt.hist(x, density=True, color='blue', bins=np.arange(-10, 25), alpha=.5) \n",
    "plt.hist(y, density=True, color='red', bins=np.arange(-10, 25), alpha=.5)\n",
    "plt.title('Density histogram')\n",
    "plt.xlabel('Participants')\n",
    "\n",
    "plt.show()"
   ]
  },
  {
   "cell_type": "markdown",
   "metadata": {},
   "source": [
    "Percentage ratio of Free lunch to reduced lunch ??? "
   ]
  }
 ],
 "metadata": {
  "kernelspec": {
   "display_name": "Python 3",
   "language": "python",
   "name": "python3"
  },
  "language_info": {
   "codemirror_mode": {
    "name": "ipython",
    "version": 3
   },
   "file_extension": ".py",
   "mimetype": "text/x-python",
   "name": "python",
   "nbconvert_exporter": "python",
   "pygments_lexer": "ipython3",
   "version": "3.7.0"
  }
 },
 "nbformat": 4,
 "nbformat_minor": 2
}
